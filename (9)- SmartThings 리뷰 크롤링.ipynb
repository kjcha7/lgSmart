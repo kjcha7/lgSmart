{
 "cells": [
  {
   "cell_type": "markdown",
   "metadata": {},
   "source": [
    "# 구글 플레이 스토어 크롤링 (한글)"
   ]
  },
  {
   "cell_type": "markdown",
   "metadata": {},
   "source": [
    "### 필수 package"
   ]
  },
  {
   "cell_type": "code",
   "execution_count": 47,
   "metadata": {},
   "outputs": [],
   "source": [
    "from selenium import webdriver\n",
    "import time\n",
    "from bs4 import BeautifulSoup as bs\n",
    "import csv \n",
    "import requests\n",
    "import pandas as pd\n",
    "import re\n",
    "from selenium import webdriver\n",
    "from webdriver_manager.chrome import ChromeDriverManager\n",
    "\n",
    "from selenium.webdriver.common.desired_capabilities import DesiredCapabilities"
   ]
  },
  {
   "cell_type": "markdown",
   "metadata": {},
   "source": [
    "### 준비 작업"
   ]
  },
  {
   "cell_type": "code",
   "execution_count": 48,
   "metadata": {
    "scrolled": true
   },
   "outputs": [
    {
     "name": "stderr",
     "output_type": "stream",
     "text": [
      "[WDM] - Current google-chrome version is 84.0.4147\n",
      "[WDM] - Get LATEST driver version for 84.0.4147\n",
      "[WDM] - Driver [/Users/kyung/.wdm/drivers/chromedriver/mac64/84.0.4147.30/chromedriver] found in cache\n"
     ]
    },
    {
     "name": "stdout",
     "output_type": "stream",
     "text": [
      " \n"
     ]
    }
   ],
   "source": [
    "driver = webdriver.Chrome(ChromeDriverManager().install())                      \n",
    "\n",
    "url = 'https://play.google.com/store/apps/details?id=com.samsung.android.oneconnect&hl=ko&showAllReviews=true'\n",
    "\n",
    "driver.get(url)\n",
    "\n",
    "time.sleep(5)"
   ]
  },
  {
   "cell_type": "markdown",
   "metadata": {},
   "source": [
    "### 스크롤링"
   ]
  },
  {
   "cell_type": "code",
   "execution_count": 49,
   "metadata": {},
   "outputs": [],
   "source": [
    "# 스크롤 관련 코드\n",
    "last_height = driver.execute_script(\"return document.body.scrollHeight\")  #스크롤의 위치를 찾습니다.                \n",
    "\n",
    "while True:\n",
    "    \n",
    "    for i in range(3):  #스크롤을 내리면 3번까지는 자동적으로 댓글 갱신이 되는데, 4번째에는 \"더보기\" 버튼이 활성화됩니다.                                                                    \n",
    "        driver.execute_script(\"window.scrollTo(0, document.body.scrollHeight);\") #스크롤을 가능한 아래까지 내립니다.\n",
    "        time.sleep(2)  #0.8초간 반응을 봅니다.\n",
    "    \n",
    "    try:\n",
    "        driver.execute_script('document.getElementsByClassName(\"RveJvd snByac\")[0].click()')  #\"더보기\" 버튼이 활성화되면 누릅니다.\n",
    "        time.sleep(2)\n",
    "    except:  #같은 조건에서 \"더보기\" 버튼이 활성화 되지 않으면 이 과정을 무시합니다.\n",
    "        pass\n",
    "        \n",
    "    new_height = driver.execute_script(\"return document.body.scrollHeight\")  #스크롤을 가능한 아래까지 내렸을 때, 댓글이 갱신되어 스크롤의 위치와 크기가 바뀌면, 다시 그 스크롤을 최대한 아래까지 내립니다.\n",
    "    if new_height == last_height:   #스크롤을 가능한 아래까지 내렸을 때, 댓글이 갱신되지 않아 스크롤의 위치와 크기가 바뀌지 않는다면, 이 루프를 끝냅니다.\n",
    "        break\n",
    "    last_height = new_height"
   ]
  },
  {
   "cell_type": "markdown",
   "metadata": {},
   "source": [
    "### 크롤링 시작"
   ]
  },
  {
   "cell_type": "code",
   "execution_count": 50,
   "metadata": {},
   "outputs": [],
   "source": [
    "#크롤링 관련 코드\n",
    "soup = bs(driver.page_source, 'lxml')\n",
    "\n",
    "date_list = []\n",
    "name_list = []\n",
    "star_list = []\n",
    "review_list = []\n",
    "like_list = []"
   ]
  },
  {
   "cell_type": "code",
   "execution_count": 51,
   "metadata": {},
   "outputs": [],
   "source": [
    "#날짜 크롤링\n",
    "dates = soup.find_all('span', class_='p2TkOb')\n",
    "\n",
    "for date in dates:\n",
    "    date_list.append(date.text)"
   ]
  },
  {
   "cell_type": "code",
   "execution_count": 52,
   "metadata": {},
   "outputs": [],
   "source": [
    "#이름 크롤링\n",
    "names = soup.find_all('span', class_='X43Kjb')\n",
    "\n",
    "for name in names:\n",
    "    name_list.append(name.text)"
   ]
  },
  {
   "cell_type": "code",
   "execution_count": 53,
   "metadata": {},
   "outputs": [],
   "source": [
    "#별점 크롤링\n",
    "stars = soup.find_all('div', class_='pf5lIe')\n",
    "\n",
    "for star in stars:\n",
    "    z = re.findall(r'\\d{1}개{1}', str(star))\n",
    "    z = int(z[1][0])  #별점 개수를 숫자만 뽑아서 int로 저장\n",
    "    star_list.append(z)\n",
    "\n",
    "star_list = star_list[1:-5]  #LG ThinQ 앱 평균 별점 및 추천 앱 별점 등 댓글이 준 별점 이외의 별점은 삭제 처리"
   ]
  },
  {
   "cell_type": "code",
   "execution_count": 54,
   "metadata": {},
   "outputs": [],
   "source": [
    "#댓글 크롤링\n",
    "fulltext_list = []\n",
    "\n",
    "reviews = soup.find_all('span', jsname ='bN97Pc')\n",
    "fulltexts = soup.find_all('span', jsname = 'fbQN7e')\n",
    "\n",
    "for review in reviews:\n",
    "    review_list.append(review.text)\n",
    "    \n",
    "for fulltext in fulltexts:\n",
    "    fulltext_list.append(fulltext.text)\n",
    "    \n",
    "for i in range(len(review_list)):\n",
    "    if \"전체 리뷰\" in review_list[i]:\n",
    "        review_list[i] = fulltext_list[i]"
   ]
  },
  {
   "cell_type": "code",
   "execution_count": 55,
   "metadata": {},
   "outputs": [
    {
     "ename": "IndexError",
     "evalue": "list index out of range",
     "output_type": "error",
     "traceback": [
      "\u001b[0;31m---------------------------------------------------------------------------\u001b[0m",
      "\u001b[0;31mIndexError\u001b[0m                                Traceback (most recent call last)",
      "\u001b[0;32m<ipython-input-55-00c5bb133319>\u001b[0m in \u001b[0;36m<module>\u001b[0;34m\u001b[0m\n\u001b[1;32m      4\u001b[0m \u001b[0;32mfor\u001b[0m \u001b[0mlike\u001b[0m \u001b[0;32min\u001b[0m \u001b[0mlikes\u001b[0m\u001b[0;34m:\u001b[0m\u001b[0;34m\u001b[0m\u001b[0;34m\u001b[0m\u001b[0m\n\u001b[1;32m      5\u001b[0m     \u001b[0my\u001b[0m \u001b[0;34m=\u001b[0m \u001b[0mre\u001b[0m\u001b[0;34m.\u001b[0m\u001b[0mfindall\u001b[0m\u001b[0;34m(\u001b[0m\u001b[0;34mr'\\d{1}개'\u001b[0m\u001b[0;34m,\u001b[0m \u001b[0mstr\u001b[0m\u001b[0;34m(\u001b[0m\u001b[0mlike\u001b[0m\u001b[0;34m)\u001b[0m\u001b[0;34m)\u001b[0m\u001b[0;34m\u001b[0m\u001b[0;34m\u001b[0m\u001b[0m\n\u001b[0;32m----> 6\u001b[0;31m     \u001b[0my\u001b[0m \u001b[0;34m=\u001b[0m \u001b[0mint\u001b[0m\u001b[0;34m(\u001b[0m\u001b[0my\u001b[0m\u001b[0;34m[\u001b[0m\u001b[0;36m0\u001b[0m\u001b[0;34m]\u001b[0m\u001b[0;34m[\u001b[0m\u001b[0;36m0\u001b[0m\u001b[0;34m]\u001b[0m\u001b[0;34m)\u001b[0m \u001b[0;31m#좋아요 개수를 숫자만 뽑아서 int로 저장\u001b[0m\u001b[0;34m\u001b[0m\u001b[0;34m\u001b[0m\u001b[0m\n\u001b[0m\u001b[1;32m      7\u001b[0m     \u001b[0mlike_list\u001b[0m\u001b[0;34m.\u001b[0m\u001b[0mappend\u001b[0m\u001b[0;34m(\u001b[0m\u001b[0my\u001b[0m\u001b[0;34m)\u001b[0m\u001b[0;34m\u001b[0m\u001b[0;34m\u001b[0m\u001b[0m\n",
      "\u001b[0;31mIndexError\u001b[0m: list index out of range"
     ]
    }
   ],
   "source": [
    "#좋아요 크롤링\n",
    "likes = soup.find_all('div', class_='jUL89d y92BAb')\n",
    "\n",
    "for like in likes:\n",
    "    y = re.findall(r'\\d{1}개', str(like))\n",
    "    y = int(y[0][0]) #좋아요 개수를 숫자만 뽑아서 int로 저장\n",
    "    like_list.append(y)"
   ]
  },
  {
   "cell_type": "code",
   "execution_count": 56,
   "metadata": {},
   "outputs": [],
   "source": [
    "#데이터 프레임 형성\n",
    "#\"LG Electronics, Inc.\"의 댓글이 포함된 날짜, 이름 리스트에서 \"LG Electronics, inc.\"의 index 삭제 과정\n",
    "# date_list = pd.DataFrame(date_list)\n",
    "# name_list = pd.DataFrame(name_list)\n",
    "# df = pd.concat([date_list, name_list], axis = 1)\n",
    "# df.columns = ['Date', 'Name']\n",
    "\n",
    "# useless = df[df['Name'] == 'Samsung Electronics Co.,  Ltd.'].index\n",
    "# df = df.drop(useless)\n",
    "# df = df.reset_index(drop=True)"
   ]
  },
  {
   "cell_type": "code",
   "execution_count": 57,
   "metadata": {},
   "outputs": [],
   "source": [
    "#데이터 프레임 형성\n",
    "star_list = pd.DataFrame(star_list)\n",
    "review_list = pd.DataFrame(review_list)\n",
    "# like_list = pd.DataFrame(like_list)\n",
    "\n",
    "DF = pd.concat([star_list, review_list], axis = 1)\n",
    "DF.columns = ['Score', 'Review']"
   ]
  },
  {
   "cell_type": "code",
   "execution_count": 58,
   "metadata": {},
   "outputs": [
    {
     "data": {
      "text/plain": [
       "(80, 2)"
      ]
     },
     "execution_count": 58,
     "metadata": {},
     "output_type": "execute_result"
    }
   ],
   "source": [
    "DF.shape"
   ]
  },
  {
   "cell_type": "code",
   "execution_count": 60,
   "metadata": {},
   "outputs": [],
   "source": [
    "# #결과 산출\n",
    "# result = pd.concat([df, DF], axis = 1)\n",
    "\n",
    "# print(result)"
   ]
  },
  {
   "cell_type": "code",
   "execution_count": 61,
   "metadata": {},
   "outputs": [],
   "source": [
    "DF.to_csv(\"SmartThings Review Kor.csv\", encoding='utf-8', index=False)"
   ]
  },
  {
   "cell_type": "code",
   "execution_count": 62,
   "metadata": {},
   "outputs": [],
   "source": [
    "driver.quit()"
   ]
  },
  {
   "cell_type": "code",
   "execution_count": null,
   "metadata": {},
   "outputs": [],
   "source": []
  }
 ],
 "metadata": {
  "kernelspec": {
   "display_name": "Python 3",
   "language": "python",
   "name": "python3"
  },
  "language_info": {
   "codemirror_mode": {
    "name": "ipython",
    "version": 3
   },
   "file_extension": ".py",
   "mimetype": "text/x-python",
   "name": "python",
   "nbconvert_exporter": "python",
   "pygments_lexer": "ipython3",
   "version": "3.7.6"
  }
 },
 "nbformat": 4,
 "nbformat_minor": 2
}
