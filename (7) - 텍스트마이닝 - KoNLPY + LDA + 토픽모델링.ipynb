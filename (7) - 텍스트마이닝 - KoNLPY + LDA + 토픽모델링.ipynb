{
 "cells": [
  {
   "cell_type": "markdown",
   "metadata": {},
   "source": [
    "# KoNLPy를 사용한 리뷰분석\n",
    "\n",
    "- 한글의 경우 KoNLPy와 CountVectorizer를 함께 사용하여 감성분석을 할 수 있음\n",
    "- 사용할 데이터셋은 한글로 된 영화리뷰를 모은 <Naver sentiment movie corpus v1.0> http://github.com/e9t/nsmc/ \n",
    "- 이 말뭉치는 네이버 영화사이트의 리뷰 20만개를 묶은 데이터\n",
    "- KoNLPy설치: 파이썬3의 경우에 JPype1-py3를 설치해야함. \n",
    "- konlpy.org/ko/latest/install 참조\n",
    "- 트위터에서 만든 한국어처리기 twitter-korean-text 를 사용"
   ]
  },
  {
   "cell_type": "code",
   "execution_count": 2,
   "metadata": {},
   "outputs": [],
   "source": [
    "import matplotlib.pyplot as plt"
   ]
  },
  {
   "cell_type": "code",
   "execution_count": 3,
   "metadata": {},
   "outputs": [],
   "source": [
    "from matplotlib import rc\n",
    "rc('font', family='AppleGothic')\n",
    "plt.rcParams['axes.unicode_minus'] = False"
   ]
  },
  {
   "cell_type": "code",
   "execution_count": 4,
   "metadata": {},
   "outputs": [
    {
     "data": {
      "text/plain": [
       "<function platform.python_version()>"
      ]
     },
     "execution_count": 4,
     "metadata": {},
     "output_type": "execute_result"
    }
   ],
   "source": [
    "import platform\n",
    "platform.python_version"
   ]
  },
  {
   "cell_type": "code",
   "execution_count": 79,
   "metadata": {},
   "outputs": [
    {
     "name": "stdout",
     "output_type": "stream",
     "text": [
      "Requirement already satisfied: konlpy in /opt/anaconda3/lib/python3.7/site-packages (0.5.2)\n",
      "Requirement already satisfied: colorama in /opt/anaconda3/lib/python3.7/site-packages (from konlpy) (0.4.3)\n",
      "Requirement already satisfied: numpy>=1.6 in /opt/anaconda3/lib/python3.7/site-packages (from konlpy) (1.18.1)\n",
      "Requirement already satisfied: beautifulsoup4==4.6.0 in /opt/anaconda3/lib/python3.7/site-packages (from konlpy) (4.6.0)\n",
      "Requirement already satisfied: tweepy>=3.7.0 in /opt/anaconda3/lib/python3.7/site-packages (from konlpy) (3.9.0)\n",
      "Requirement already satisfied: JPype1>=0.7.0 in /opt/anaconda3/lib/python3.7/site-packages (from konlpy) (1.0.2)\n",
      "Requirement already satisfied: lxml>=4.1.0 in /opt/anaconda3/lib/python3.7/site-packages (from konlpy) (4.5.0)\n",
      "Requirement already satisfied: requests-oauthlib>=0.7.0 in /opt/anaconda3/lib/python3.7/site-packages (from tweepy>=3.7.0->konlpy) (1.3.0)\n",
      "Requirement already satisfied: requests[socks]>=2.11.1 in /opt/anaconda3/lib/python3.7/site-packages (from tweepy>=3.7.0->konlpy) (2.22.0)\n",
      "Requirement already satisfied: six>=1.10.0 in /opt/anaconda3/lib/python3.7/site-packages (from tweepy>=3.7.0->konlpy) (1.14.0)\n",
      "Requirement already satisfied: typing-extensions; python_version < \"3.8\" in /opt/anaconda3/lib/python3.7/site-packages (from JPype1>=0.7.0->konlpy) (3.7.4.2)\n",
      "Requirement already satisfied: oauthlib>=3.0.0 in /opt/anaconda3/lib/python3.7/site-packages (from requests-oauthlib>=0.7.0->tweepy>=3.7.0->konlpy) (3.1.0)\n",
      "Requirement already satisfied: chardet<3.1.0,>=3.0.2 in /opt/anaconda3/lib/python3.7/site-packages (from requests[socks]>=2.11.1->tweepy>=3.7.0->konlpy) (3.0.4)\n",
      "Requirement already satisfied: urllib3!=1.25.0,!=1.25.1,<1.26,>=1.21.1 in /opt/anaconda3/lib/python3.7/site-packages (from requests[socks]>=2.11.1->tweepy>=3.7.0->konlpy) (1.25.8)\n",
      "Requirement already satisfied: certifi>=2017.4.17 in /opt/anaconda3/lib/python3.7/site-packages (from requests[socks]>=2.11.1->tweepy>=3.7.0->konlpy) (2019.11.28)\n",
      "Requirement already satisfied: idna<2.9,>=2.5 in /opt/anaconda3/lib/python3.7/site-packages (from requests[socks]>=2.11.1->tweepy>=3.7.0->konlpy) (2.8)\n",
      "Requirement already satisfied: PySocks!=1.5.7,>=1.5.6; extra == \"socks\" in /opt/anaconda3/lib/python3.7/site-packages (from requests[socks]>=2.11.1->tweepy>=3.7.0->konlpy) (1.7.1)\n"
     ]
    }
   ],
   "source": [
    "!pip install konlpy"
   ]
  },
  {
   "cell_type": "code",
   "execution_count": 5,
   "metadata": {},
   "outputs": [
    {
     "name": "stderr",
     "output_type": "stream",
     "text": [
      "/opt/anaconda3/lib/python3.7/site-packages/konlpy/tag/_okt.py:16: UserWarning: \"Twitter\" has changed to \"Okt\" since KoNLPy v0.4.5.\n",
      "  warn('\"Twitter\" has changed to \"Okt\" since KoNLPy v0.4.5.')\n"
     ]
    }
   ],
   "source": [
    "# Twitter Tag\n",
    "from konlpy.tag import Twitter\n",
    "twitter = Twitter()"
   ]
  },
  {
   "cell_type": "code",
   "execution_count": 6,
   "metadata": {},
   "outputs": [
    {
     "name": "stdout",
     "output_type": "stream",
     "text": [
      "[('빅', 'Noun'), ('데이터', 'Noun'), ('(', 'Punctuation'), ('영어', 'Noun'), (':', 'Punctuation'), ('big', 'Alpha'), ('data', 'Alpha'), (')', 'Punctuation'), ('란', 'Noun'), ('기존', 'Noun'), ('데이터베이스', 'Noun'), ('관리', 'Noun'), ('도구', 'Noun'), ('의', 'Josa'), ('능력', 'Noun'), ('을', 'Josa'), ('넘어서다', 'Verb'), ('대량', 'Noun'), ('(', 'Punctuation'), ('수십', 'Noun'), ('테라바이트', 'Noun'), (')', 'Punctuation'), ('의', 'Noun'), ('정형', 'Noun'), ('또는', 'Adverb'), ('심지어', 'Noun'), ('데이터베이스', 'Noun'), ('형태', 'Noun'), ('가', 'Josa'), ('아니다', 'Adjective'), ('비정', 'Noun'), ('형', 'Suffix'), ('의', 'Josa'), ('데이터', 'Noun'), ('집합', 'Noun'), ('조차', 'Josa'), ('포함', 'Noun'), ('한', 'Determiner'), ('데이터', 'Noun'), ('로부터', 'Noun'), ('가치', 'Noun'), ('를', 'Josa'), ('추출', 'Noun'), ('하고', 'Josa'), ('결과', 'Noun'), ('를', 'Josa'), ('분석', 'Noun'), ('하다', 'Verb'), ('기술', 'Noun'), ('이다', 'Josa'), ('.', 'Punctuation')]\n"
     ]
    }
   ],
   "source": [
    "# norm은 오타 수정\n",
    "# stem은 어근 탐색\n",
    "\n",
    "list = twitter.pos(\"빅 데이터(영어: big data)란 기존 데이터베이스 관리도구의 능력을 넘어서는 대량(수십 테라바이트)의 정형 또는 심지어 데이터베이스 형태가 아닌 비정형의 데이터 집합조차 포함한데이터로부터 가치를 추출하고 결과를 분석하는 기술이다.\", norm = True, stem = True)\n",
    "print(list)"
   ]
  },
  {
   "cell_type": "code",
   "execution_count": 7,
   "metadata": {},
   "outputs": [
    {
     "name": "stdout",
     "output_type": "stream",
     "text": [
      "['빅', '데이터', '영어', '란', '기존', '데이터베이스', '관리', '도구', '능력', '대량', '수십', '테라바이트', '의', '데이터']\n"
     ]
    }
   ],
   "source": [
    "print(twitter.nouns('빅 데이터(영어: big data)란 기존 데이터베이스 관리도구의 능력을 넘어서는 대량(수십 테라바이트)의 데이터'))"
   ]
  },
  {
   "cell_type": "code",
   "execution_count": 8,
   "metadata": {},
   "outputs": [],
   "source": [
    "data = [\"빅 데이터(영어: big data)란\",\n",
    "        \"기존 데이터베이스 관리도구의 능력을 넘어서는\",\n",
    "        \"대량(수십 테라바이트)의 정형 또는 심지어 데이터베이스 형태가 아닌\",\n",
    "        \"비정형의 데이터 집합조차 포함한데이터로부터 가치를 추출하고 결과를 분석하는 기술이다.\"]\n",
    "\n",
    "results = []\n",
    "for line in data:\n",
    "    word_list = twitter.pos(line, norm=True, stem=True)\n",
    "    words = []\n",
    "    for word in word_list:\n",
    "        # 문장에서 특정 품사 제거\n",
    "        if not word[1] in [\"Josa\", \"eomi\", \"Punctuation\", \"Verb\"]:\n",
    "            words.append(word[0])\n",
    "    words = (\" \".join(words)).strip()\n",
    "    results.append(words)"
   ]
  },
  {
   "cell_type": "code",
   "execution_count": 9,
   "metadata": {},
   "outputs": [
    {
     "data": {
      "text/plain": [
       "['빅 데이터 영어 big data 란',\n",
       " '기존 데이터베이스 관리 도구 능력',\n",
       " '대량 수십 테라바이트 의 정형 또는 심지어 데이터베이스 형태 아니다',\n",
       " '비정 형 데이터 집합 포함 한 데이터 로부터 가치 추출 결과 분석 기술']"
      ]
     },
     "execution_count": 9,
     "metadata": {},
     "output_type": "execute_result"
    }
   ],
   "source": [
    "results"
   ]
  },
  {
   "cell_type": "code",
   "execution_count": 10,
   "metadata": {},
   "outputs": [
    {
     "name": "stdout",
     "output_type": "stream",
     "text": [
      "['빅', '데이터', '(', '영어', ':', 'big', 'data', ')', '이', '란', '기존', '데이터', '베이스', '관리', '도구', '의', '능력', '을', '넘어서', '는', '대량', '(', '수십', '테라', '바이트', ')', '의', '정형', '또는', '심지어', '데이터베이스', '형태', '가', '아니', 'ㄴ', '비정형', '의', '데이터', '집합', '조차', '포함', '하', 'ㄴ', '데이터', '로', '부터', '가치', '를', '추출', '하', '고', '결과', '를', '분석', '하', '는', '기술', '이', '다']\n"
     ]
    }
   ],
   "source": [
    "# KKoma Tag\n",
    "from konlpy.tag import Kkma\n",
    "kkma = Kkma()\n",
    "print(kkma.morphs('빅 데이터(영어: big data)란 기존 데이터베이스 관리도구의 능력을 넘어서는 대량(수십 테라바이트)의 정형 또는 심지어 데이터베이스 형태가 아닌 비정형의 데이터 집합조차 포함한데이터로부터 가치를 추출하고 결과를 분석하는 기술이다'))"
   ]
  },
  {
   "cell_type": "code",
   "execution_count": 11,
   "metadata": {},
   "outputs": [
    {
     "name": "stdout",
     "output_type": "stream",
     "text": [
      "[('빅', 'NNG'), ('데이터', 'NNG'), ('(', 'SS'), ('영어', 'NNG'), (':', 'SP'), ('big', 'OL'), ('data', 'OL'), (')', 'SS'), ('이', 'VCP'), ('란', 'ETD'), ('기존', 'NNG'), ('데이터', 'NNG'), ('베이스', 'NNG'), ('관리', 'NNG'), ('도구', 'NNG'), ('의', 'JKG'), ('능력', 'NNG'), ('을', 'JKO'), ('넘어서', 'VV'), ('는', 'ETD'), ('대량', 'NNG'), ('(', 'SS'), ('수십', 'NR'), ('테라', 'NNG'), ('바이트', 'NNG'), (')', 'SS'), ('의', 'NNG'), ('데이터', 'NNG')]\n"
     ]
    }
   ],
   "source": [
    "print(kkma.pos('빅 데이터(영어: big data)란 기존 데이터베이스 관리도구의 능력을 넘어서는 대량(수십 테라바이트)의 데이터'))"
   ]
  },
  {
   "cell_type": "code",
   "execution_count": 12,
   "metadata": {},
   "outputs": [],
   "source": [
    "import pandas as pd\n",
    "import numpy as np\n",
    "from preamble import *"
   ]
  },
  {
   "cell_type": "markdown",
   "metadata": {},
   "source": [
    "- 데이터항목은 세개이고 탭으로 구분되어 있으므로 read_csv메서드를 사용할때 구분자를 탭으로 지정함. \n",
    "- 데이터에 빈 문자열이 있어도 nan으로 저장되지 않도록 keep_default_na = True로 지정하여 빈 문자열이 그대로 저장되도록 했다"
   ]
  },
  {
   "cell_type": "code",
   "execution_count": 13,
   "metadata": {},
   "outputs": [
    {
     "data": {
      "text/html": [
       "<div>\n",
       "<style scoped>\n",
       "    .dataframe tbody tr th:only-of-type {\n",
       "        vertical-align: middle;\n",
       "    }\n",
       "\n",
       "    .dataframe tbody tr th {\n",
       "        vertical-align: top;\n",
       "    }\n",
       "\n",
       "    .dataframe thead th {\n",
       "        text-align: right;\n",
       "    }\n",
       "</style>\n",
       "<table border=\"1\" class=\"dataframe\">\n",
       "  <thead>\n",
       "    <tr style=\"text-align: right;\">\n",
       "      <th></th>\n",
       "      <th>Score</th>\n",
       "      <th>Review</th>\n",
       "    </tr>\n",
       "  </thead>\n",
       "  <tbody>\n",
       "    <tr>\n",
       "      <th>9394</th>\n",
       "      <td>5</td>\n",
       "      <td>좋습니다</td>\n",
       "    </tr>\n",
       "    <tr>\n",
       "      <th>9395</th>\n",
       "      <td>5</td>\n",
       "      <td>좋아요</td>\n",
       "    </tr>\n",
       "    <tr>\n",
       "      <th>9396</th>\n",
       "      <td>5</td>\n",
       "      <td>굿</td>\n",
       "    </tr>\n",
       "    <tr>\n",
       "      <th>9397</th>\n",
       "      <td>5</td>\n",
       "      <td>멋져요^^</td>\n",
       "    </tr>\n",
       "    <tr>\n",
       "      <th>9398</th>\n",
       "      <td>5</td>\n",
       "      <td>.굿</td>\n",
       "    </tr>\n",
       "  </tbody>\n",
       "</table>\n",
       "</div>"
      ],
      "text/plain": [
       "      Score Review\n",
       "9394      5   좋습니다\n",
       "9395      5    좋아요\n",
       "9396      5      굿\n",
       "9397      5  멋져요^^\n",
       "9398      5     .굿"
      ]
     },
     "execution_count": 13,
     "metadata": {},
     "output_type": "execute_result"
    }
   ],
   "source": [
    "train = pd.read_csv('SmartThings Review Kor.csv', delimiter=',', keep_default_na=False)\n",
    "train.head(20)\n",
    "train.tail()"
   ]
  },
  {
   "cell_type": "markdown",
   "metadata": {},
   "source": [
    "- 우리가 사용할 데이터는 'document'와 'label'열임. 레이블이 0이면 부정적인 리뷰, 1이면 긍정적인 리뷰임. 이제 pandas의 데이터프레임을 NumPy배열로 바꾼다"
   ]
  },
  {
   "cell_type": "code",
   "execution_count": 14,
   "metadata": {},
   "outputs": [
    {
     "name": "stdout",
     "output_type": "stream",
     "text": [
      "(9399,)\n",
      "(9399,)\n"
     ]
    }
   ],
   "source": [
    "X = train['Review']\n",
    "y = train[\"Score\"]\n",
    "print(X.shape)\n",
    "print(y.shape)"
   ]
  },
  {
   "cell_type": "code",
   "execution_count": 15,
   "metadata": {},
   "outputs": [],
   "source": [
    "from sklearn.model_selection import train_test_split\n",
    "\n",
    "X_train, X_test, y_train, y_test = train_test_split(X, y, random_state=31)"
   ]
  },
  {
   "cell_type": "code",
   "execution_count": 16,
   "metadata": {},
   "outputs": [],
   "source": [
    "# #테스트데이터도 데이터프레임으로 읽은후 NumPy배열로 변환\n",
    "# test = pd.read_csv('data/ratings_test.txt', delimiter='\\t', keep_default_na=False)\n",
    "# text_test = test['document'].as_matrix()\n",
    "# y_test = test['label'].as_matrix()\n",
    "# text_test.shape"
   ]
  },
  {
   "cell_type": "code",
   "execution_count": 20,
   "metadata": {},
   "outputs": [],
   "source": [
    "#훈련데이터와 테스트 데이터의 크기와 클래스 비율 확인. \n",
    "# 양성과 음성 데이터수가 비슷함. \n",
    "#len(text_train), np.bincount(y_train)"
   ]
  },
  {
   "cell_type": "code",
   "execution_count": 21,
   "metadata": {},
   "outputs": [],
   "source": [
    "# len(text_test), np.bincount(y_test)"
   ]
  },
  {
   "cell_type": "code",
   "execution_count": 22,
   "metadata": {},
   "outputs": [],
   "source": [
    "#분류작업을 시작하기 전에 KoNLPy의 Twitter클래스의 객체를 만든다\n",
    "from konlpy.tag import Twitter\n",
    "twitter_tag = Twitter()"
   ]
  },
  {
   "cell_type": "code",
   "execution_count": 23,
   "metadata": {},
   "outputs": [],
   "source": [
    "# TfidVectorizer의 tokenizer 매개변수에 주입할 함수를 만듬. \n",
    "# 이 함수는 텍스트 하나를 입력받아서 Twitter의 형태소분석 메서드인 morphs에서 받은\n",
    "# 문자열의 리스트를 그대로 반환함. \n",
    "def twitter_tokenizer(text):\n",
    "    return twitter_tag.morphs(text)"
   ]
  },
  {
   "cell_type": "code",
   "execution_count": 24,
   "metadata": {},
   "outputs": [
    {
     "name": "stdout",
     "output_type": "stream",
     "text": [
      "최상의 교차검증점수 : 0.688\n",
      "최적의 교차 검증 매개변수 :  {'logisticregression__C': 0.1, 'tfidfvectorizer__min_df': 5, 'tfidfvectorizer__ngram_range': (1, 1)}\n"
     ]
    }
   ],
   "source": [
    "# TfidVectorizer의 min_df와 ngram_range, LogisticRegression의 규제 매개변수 C의 그리드서치\n",
    "# make_pipeline을 사용하여 파이프라인 객체를 만들때 TfidVectorizer에 \n",
    "# tokenizer=twitter_tokenizer를 지정하고 작동되는 것을 보기위해 훈련데이터 1000개사용\n",
    "from sklearn.feature_extraction.text import TfidfVectorizer\n",
    "from sklearn.linear_model import LogisticRegression\n",
    "from sklearn.pipeline import make_pipeline\n",
    "from sklearn.model_selection import GridSearchCV\n",
    "\n",
    "twit_param_grid = {'tfidfvectorizer__min_df': [5],\n",
    "                   'tfidfvectorizer__ngram_range':[(1,1), (1,2)],\n",
    "                   'logisticregression__C': [0.1]}\n",
    "twit_pipe = make_pipeline(TfidfVectorizer(tokenizer=twitter_tokenizer),\n",
    "                          LogisticRegression())\n",
    "twit_grid = GridSearchCV(twit_pipe, twit_param_grid)\n",
    "\n",
    "#그리드서치를 수행\n",
    "twit_grid.fit(X_train[0:3000], y_train[0:3000])\n",
    "print(\"최상의 교차검증점수 : {:.3f}\".format(twit_grid.best_score_))\n",
    "print(\"최적의 교차 검증 매개변수 : \", twit_grid.best_params_)"
   ]
  },
  {
   "cell_type": "markdown",
   "metadata": {},
   "source": [
    "- 데이터를 1000개만 사용해도 73%에 가까운 교차검증점수임\n",
    "- 테스트세트를 적용할때는 파이프라인의 tfidfvectorizer단계에서 transform 메소드를 호출한뒤 변환된 데이터를 이용해 logisticregression단계의 score함수를 호출해야함"
   ]
  },
  {
   "cell_type": "code",
   "execution_count": 25,
   "metadata": {},
   "outputs": [
    {
     "name": "stdout",
     "output_type": "stream",
     "text": [
      "테스트 세트 점수: 0.674\n"
     ]
    }
   ],
   "source": [
    "X_test_konlpy = twit_grid.best_estimator_.named_steps[\"tfidfvectorizer\"].transform(X_test)\n",
    "score= twit_grid.best_estimator_.named_steps[\"logisticregression\"].score(X_test_konlpy, y_test)\n",
    "print(\"테스트 세트 점수: {:.3f}\".format(score))"
   ]
  },
  {
   "cell_type": "markdown",
   "metadata": {},
   "source": [
    "- 전체 훈련데이터를 사용해 그리드서치를 진행하면 테스트할 매개변수 조합이 많이 매우 오래걸림\n",
    "- n_jobs 매개변수를 조정하여 병렬로 처리할수 있지만, C++기반의 Mecab이 필요함. 윈도우를 지원하지 않음. \n",
    "- 전체데이터를 이용하여 학습한 모델의 테스트점수는 87.5%로 분류정확도가 꽤 높음"
   ]
  },
  {
   "cell_type": "markdown",
   "metadata": {},
   "source": [
    "### 토픽 모델링과 문서 군집화"
   ]
  },
  {
   "cell_type": "markdown",
   "metadata": {},
   "source": [
    "- 비지도학습으로 문서를 하나 또는 그 이상의 토픽으로 할당하는 작업\n",
    "- '정치', '스포츠' '금융'등의 토픽으로 묶을수 있는 뉴스데이터가 좋은 예\n",
    "- 학습된 각 성분은 하나의 토픽에 해당하며, 문서를 표현한 성분의 계수는 문서가 어떤 토픽에 얼마만큼 연관되어 잇는지 알려줌\n",
    "- 사람들이 토픽모델링에 대해 이야기할때 LDA이라고 하는 특정한 성분 분해방법을 말함. \n",
    "- LDA(Latent Dirichlet Allocation), 잠재 디리클레 할당"
   ]
  },
  {
   "cell_type": "markdown",
   "metadata": {},
   "source": [
    "### LDA\n",
    "- LDA 모델은 함께 자주 나타나는 단어들을 기준으로 문서의 그룹(토픽)을 찾는것\n",
    "- 영화 리뷰에 대해서 적용\n",
    "- 비지도 학습 모델에서 분석의 결과가 왜곡되지 않으려면 자주 나타나는 단어을 제거해야 함\n",
    "- 적어도 15% 문서에서 나타나는 단어를 삭제한 후 가장 많이 등장하는 단어 10,000개에 대해 BOW모델을 만들것임."
   ]
  },
  {
   "cell_type": "code",
   "execution_count": 26,
   "metadata": {},
   "outputs": [],
   "source": [
    "from sklearn.feature_extraction.text import CountVectorizer"
   ]
  },
  {
   "cell_type": "code",
   "execution_count": 27,
   "metadata": {},
   "outputs": [],
   "source": [
    "# from sklearn.datasets import load_files\n",
    "\n",
    "# reviews_train = load_files(\"data/train/\")\n",
    "# # 텍스트와 레이블을 포함하고 있는 Bunch 오브젝트를 반환합니다.\n",
    "# text_train, y_train = reviews_train.data, reviews_train.target"
   ]
  },
  {
   "cell_type": "code",
   "execution_count": 28,
   "metadata": {},
   "outputs": [
    {
     "data": {
      "text/plain": [
       "(9399,)"
      ]
     },
     "execution_count": 28,
     "metadata": {},
     "output_type": "execute_result"
    }
   ],
   "source": [
    "text_train = train['Review']\n",
    "y_train = train[\"Score\"]\n",
    "text_train.shape"
   ]
  },
  {
   "cell_type": "code",
   "execution_count": 29,
   "metadata": {},
   "outputs": [],
   "source": [
    "# reviews_test = load_files(\"data/aclImdb/test/\")\n",
    "# text_test, y_test = reviews_test.data, reviews_test.target"
   ]
  },
  {
   "cell_type": "code",
   "execution_count": 30,
   "metadata": {},
   "outputs": [],
   "source": [
    "vect = CountVectorizer(max_features=10000, max_df=.15)\n",
    "X = vect.fit_transform(text_train)"
   ]
  },
  {
   "cell_type": "code",
   "execution_count": 31,
   "metadata": {
    "scrolled": false
   },
   "outputs": [],
   "source": [
    "# 10개의 토픽으로 구분한다. 토픽은 순서를 가지고 있지 않으며, \n",
    "# 토픽의 수를 바꾸면 모든 토픽의 내용이 달라짐\n",
    "# 기본학습방법(\"online\")에 비해 조금 속도는 느리지만 성능이 더 나은 \"batch\"방법을 사용하겠다\n",
    "# 모델성능을 위해 \"max_iter(기본 10) 값을 증가시킴\n",
    "\n",
    "from sklearn.decomposition import LatentDirichletAllocation\n",
    "lda = LatentDirichletAllocation(n_components=10, learning_method=\"batch\",\n",
    "                                max_iter=25, random_state=0)\n",
    "# 모델 생성과 변환을 한 번에 합니다 (시간절약)\n",
    "# 변환 시간이 좀 걸리므로 시간을 절약하기 위해 동시에 처리합니다\n",
    "document_topics = lda.fit_transform(X)"
   ]
  },
  {
   "cell_type": "code",
   "execution_count": 32,
   "metadata": {},
   "outputs": [
    {
     "name": "stdout",
     "output_type": "stream",
     "text": [
      "lda.components_.shape: (10, 10000)\n"
     ]
    }
   ],
   "source": [
    "# 토픽마다 각 단어의 중요도를 저장한 components_ 속성이 있음\n",
    "# componenets의 크기는 (n_topics, n_words) 이다\n",
    "print(\"lda.components_.shape: {}\".format(lda.components_.shape))"
   ]
  },
  {
   "cell_type": "code",
   "execution_count": 33,
   "metadata": {},
   "outputs": [],
   "source": [
    "# 각 토픽이 의미하는 것이 무엇인지 이해하기 위해 토픽에서 가장 중요한 단어를 확인\n",
    "# 토픽마다(components_의 행) 특성을 오름차순으로 정렬합니다\n",
    "# 내림차순이 되도록 [:, ::-1] 사용해 행의 정렬을 반대로 바꿉니다\n",
    "sorting = np.argsort(lda.components_, axis=1)[:, ::-1]\n",
    "# CountVectorizer 객체에서 특성 이름을 구합니다.\n",
    "feature_names = np.array(vect.get_feature_names())"
   ]
  },
  {
   "cell_type": "code",
   "execution_count": 34,
   "metadata": {},
   "outputs": [
    {
     "data": {
      "text/plain": [
       "array([[ 0,  1,  2,  3],\n",
       "       [ 4,  5,  6,  7],\n",
       "       [ 8,  9, 10, 11]])"
      ]
     },
     "execution_count": 34,
     "metadata": {},
     "output_type": "execute_result"
    }
   ],
   "source": [
    "arr = np.arange(0,12).reshape(3,4)\n",
    "arr"
   ]
  },
  {
   "cell_type": "code",
   "execution_count": 35,
   "metadata": {},
   "outputs": [
    {
     "data": {
      "text/plain": [
       "array([[ 3,  2,  1,  0],\n",
       "       [ 7,  6,  5,  4],\n",
       "       [11, 10,  9,  8]])"
      ]
     },
     "execution_count": 35,
     "metadata": {},
     "output_type": "execute_result"
    }
   ],
   "source": [
    "arr[:, ::-1]"
   ]
  },
  {
   "cell_type": "code",
   "execution_count": 36,
   "metadata": {
    "scrolled": true
   },
   "outputs": [
    {
     "data": {
      "text/plain": [
       "(10000,)"
      ]
     },
     "execution_count": 36,
     "metadata": {},
     "output_type": "execute_result"
    }
   ],
   "source": [
    "feature_names.shape"
   ]
  },
  {
   "cell_type": "code",
   "execution_count": 37,
   "metadata": {},
   "outputs": [
    {
     "name": "stdout",
     "output_type": "stream",
     "text": [
      "topic 0       topic 1       topic 2       topic 3       topic 4       \n",
      "--------      --------      --------      --------      --------      \n",
      "편해요           좋네요           편리합니다         good          있습니다          \n",
      "역시            정말            감사합니다         너무좋아요         사용하고          \n",
      "좋아용           편리해요          정말            연결이           아주            \n",
      "삼성            사용하기          연결이           삼성            있어요           \n",
      "편합니다          편하네요          업데이트          안되네요          쓰고            \n",
      "너무            있어서           삼성            어플            잘쓰고           \n",
      "연결이           너무            공기청정기         좋은데           유용하게          \n",
      "완전            유용하게          입니다           스마트           너무            \n",
      "연결해서          간편하고          매우            많이            만족합니다         \n",
      "samsung       에어컨           안되네요          좀더            에어컨           \n",
      "\n",
      "\n",
      "topic 5       topic 6       topic 7       topic 8       topic 9       \n",
      "--------      --------      --------      --------      --------      \n",
      "조아요           좋습니다          좋아요           삼성            에어컨           \n",
      "연결            좋음            편리하고          정말            업데이트          \n",
      "아직            최고            너무            편리하게          연결이           \n",
      "삼성            편함            편하고           너무            안되고           \n",
      "편리함           블루투스          편리하네요         있는            계속            \n",
      "너무            너무            아주            있어서           안됨            \n",
      "연결이           좋다            연결이           있어            연결            \n",
      "잘쓰고있습니다       이거            자주            집에            다시            \n",
      "합니다           삼성            계속            같아요           갑자기           \n",
      "계속            자꾸            굳굳            모든            삼성            \n",
      "\n",
      "\n"
     ]
    }
   ],
   "source": [
    "# 10개의 토픽을 출력합니다. print_topics는 특성들을 정돈하여 출력하는 함수임\n",
    "mglearn.tools.print_topics(topics=range(10), feature_names=feature_names,\n",
    "                           sorting=sorting, topics_per_chunk=5, n_words=10)\n",
    "#토픽1은 역사와 전쟁영화, 토픽2는 코미디물, 토픽3:TV시리즈, 토픽4:매우일반적인단어\n",
    "#토픽6:어린이영화, 토픽8:영화제와 관련한 리뷰"
   ]
  },
  {
   "cell_type": "code",
   "execution_count": 38,
   "metadata": {},
   "outputs": [],
   "source": [
    "# 100개의 토픽으로 새로운 모델을 학습\n",
    "# 많은 토픽을 사용하면 분석은 더 어려워지지만 데이터에서 특이한 부분을 잘 잡아냄\n",
    "lda100 = LatentDirichletAllocation(n_components=100, learning_method=\"batch\",\n",
    "                                   max_iter=25, random_state=0, n_jobs=-1)\n",
    "document_topics100 = lda100.fit_transform(X)"
   ]
  },
  {
   "cell_type": "code",
   "execution_count": 39,
   "metadata": {},
   "outputs": [
    {
     "data": {
      "text/plain": [
       "array(10)"
      ]
     },
     "execution_count": 39,
     "metadata": {},
     "output_type": "execute_result"
    }
   ],
   "source": [
    "# # 100개의 토픽을 모두 나열하면 너무 길어지므로 재미있는 대표 토픽만 보겠다\n",
    "topics = np.array(10)\n",
    "topics"
   ]
  },
  {
   "cell_type": "code",
   "execution_count": 40,
   "metadata": {},
   "outputs": [
    {
     "name": "stdout",
     "output_type": "stream",
     "text": [
      "topic 0       topic 1       topic 2       topic 3       topic 4       \n",
      "--------      --------      --------      --------      --------      \n",
      "편해요           좋네요           편리합니다         good          있습니다          \n",
      "역시            정말            감사합니다         너무좋아요         사용하고          \n",
      "좋아용           편리해요          정말            연결이           아주            \n",
      "삼성            사용하기          연결이           삼성            있어요           \n",
      "편합니다          편하네요          업데이트          안되네요          쓰고            \n",
      "너무            있어서           삼성            어플            잘쓰고           \n",
      "연결이           너무            공기청정기         좋은데           유용하게          \n",
      "완전            유용하게          입니다           스마트           너무            \n",
      "연결해서          간편하고          매우            많이            만족합니다         \n",
      "samsung       에어컨           안되네요          좀더            에어컨           \n",
      "다시            연결해서          냉장고           최고입니다         연결이           \n",
      "엄청            업데이트          사용중인데         업데이트          다시            \n",
      "정말            편해서           세탁기           안됩니다          잘쓰고있어요        \n",
      "잘사용하고         집에            자꾸            기능이           리모컨           \n",
      "진짜            블루투스          되고            에서            계속            \n",
      "편하고좋아요        편리해서          집에            계속            삼성            \n",
      "이거            연결            너무            갤럭시           안되요           \n",
      "앱에서           쓰기            tv            에어컨           어플            \n",
      "계속            가끔            건조기           너무            공기청정기         \n",
      "공기청정기         최고에요          안됨            39            사용            \n",
      "\n",
      "\n",
      "topic 5       topic 6       topic 7       topic 8       topic 9       \n",
      "--------      --------      --------      --------      --------      \n",
      "조아요           좋습니다          좋아요           삼성            에어컨           \n",
      "연결            좋음            편리하고          정말            업데이트          \n",
      "아직            최고            너무            편리하게          연결이           \n",
      "삼성            편함            편하고           너무            안되고           \n",
      "편리함           블루투스          편리하네요         있는            계속            \n",
      "너무            너무            아주            있어서           안됨            \n",
      "연결이           좋다            연결이           있어            연결            \n",
      "잘쓰고있습니다       이거            자주            집에            다시            \n",
      "합니다           삼성            계속            같아요           갑자기           \n",
      "계속            자꾸            굳굳            모든            삼성            \n",
      "세탁기           아주            유용합니다         편리한           어떻게           \n",
      "와이파이          좋아            매우            같습니다          벽걸이           \n",
      "디바이스          좋고            진짜            하나로           하고            \n",
      "좋아여           조금            굿굿굿           좋은            앱이            \n",
      "티비            있어서           블루투스          좋습니다          아니            \n",
      "안되고           좋겠어요          괜찮네요          가전제품을         삭제            \n",
      "스마트           되서            ㅎㅎ            커넥트           진짜            \n",
      "다시            괜찮아요          집에            편하게           안되네요          \n",
      "그리고           쓸만함           만족            제어할           제대로           \n",
      "에어컨           휴대폰으로         많이            컨트롤           삭제도           \n",
      "\n",
      "\n"
     ]
    }
   ],
   "source": [
    "sorting = np.argsort(lda.components_, axis=1)[:, ::-1]\n",
    "feature_names = np.array(vect.get_feature_names())\n",
    "mglearn.tools.print_topics(topics=[0,1,2,3,4,5,6,7,8,9], feature_names=feature_names,\n",
    "                           sorting=sorting, topics_per_chunk=5, n_words=20)\n",
    "\n",
    "#토픽7:공포영화스릴러, 16,54:부정적인리뷰, 63:코미디에관한 긍정적인리뷰\n",
    "#토픽을 이용해 추론을 잘 하려면 토픽에 할당된 문서를 보고 가장 높은 순위에 있는\n",
    "#단어의 의미를 확인해야함\n",
    "#토픽 36은 음악에 관한것. "
   ]
  },
  {
   "cell_type": "code",
   "execution_count": 41,
   "metadata": {
    "scrolled": false
   },
   "outputs": [
    {
     "name": "stdout",
     "output_type": "stream",
     "text": [
      "삼성 큐브 공기청정기를 사용 중인데 스마트 에어에서 내방 공기청정 정보가 뜨지 않습니다. 공기청정기를 켜라고 하는데 켜져 있음에도 꺼져있다고 인식합니다.\n",
      "\n",
      "직전 리모컨 기능은 좋았으나 이번 업데이트로 리모컨에서 확인버튼을 누르면 안눌러지고 . 꾸욱 눌러야 클릭이 됨.\n",
      "\n",
      "아니 가뜩이나 32기가도 부족해서 지우고 쓰는 마당에 왜 지멋대로 깔고 지우지도 못하게해!! 티비도 안보고 전등도 이걸로 켜고 끌수있는 기능 있는게 아니고 에어컨은 직접 켜고 끄면되는데 왜 멋대로 깔고 용량 냠냠하냐고ㅡㅡ.\n",
      "\n",
      "꺼짐이나 켜짐 예약이 없어서 아쉬워요~~청소모드 설정됬는지 확인가능하면좋겠어요 그리고 필터청소 팝업창뜬것같은데 눌러서 들어가니 사라져버리고 2in1인데 어떤걸 청소해라는건지 확인가능할수있음 좋을것같아요~~ 더운날 미리 켜짐 기능은 최고에요ㅋ.\n",
      "\n",
      "건조기 켜서 사용중일때만 에너지 모니터링되고 꺼지면 에너지 사용량은 볼수도 없고 참ㅡㅡ;; 공청은 켜져서 와이파이 연결 됐는데 앱에서는 연결안됨으로 뜨고 도데체 이걸로 뭘 하라는건지..\n",
      "\n",
      "리뷰 안 남기는 편이지만 남겨야겠네요 업뎃 이후 기어s2랑 연결은 개판이고 블루투스 이어폰은 끈김 심해짐 기어s2연결은 분명 \n",
      "블루투스인데도 화면에는 시리얼 포트 사용이라고 나오고 정말 x같아짐 어째든간 삼성을 사용중이니 쓰겠지만 앱 개판으로 할꺼면 건드리지 \n",
      "않는게 나을듯 하네요.\n",
      "\n",
      "아진짜짜증나네요. 잘될땐 너무 잘쓰고잇엇는데 몇일전부터 자꾸 전원을 연결을 하라는둥.\n",
      "\n",
      "업데이트 이후 티비 리모컨 사용시 상하좌우 선택 버튼 밑에 접기 더보기가 생겼는데, 고정상태로 계속 쓸수있던 전 스타일이 낫습니다. 밑으로 내리다보면 자꾸 접기버튼이 같이 눌림.\n",
      "\n",
      "블루투스이어폰+노트8휴대폰블루투스연결+휴대폰이어폰단자+오디오연결 오디오음악듣기 전화수신시 첫번째 블루투스연결오류>오디오통화 \n",
      "휴대폰잰더+오디오연결유지>음악듣기>통화시블루투스이어폰휴대폰연결가능 이어폰단자연결 어플받기전에는 \n",
      "블루투스이어폰+휴대폰+오디오+통신수신시블루투스이어폰+휴대폰직통>통화종료시 음악듣기 잘사용했는데 값자기왜이런가요 문제해결바람니다..\n",
      "\n",
      "진짜될까?하는마음이 처음에는있었습니다!  그런데밖에서 실행해보니 되더라구요 너무신기했습니다 티비에서보면 비싼고급아파트들이나 전용리모컨이있어서 밖에서컨트롤이가능한줄알았는데 스마트폰하나로 껐다켰다하니까매우편리하더라구요 디바이스를 일일이찾아서추가해야하는번거로움은 있지만! 단점을커버할 장점이 더많아서 저는솔직히 개인적으로 편리하고신박했습니다!! 자주깜빡하는 제친구들 한테도 한번깔아보라고 할생각입니다!  건망증있으신분들 또는 많은분들께 추천합니다~.\n",
      "\n"
     ]
    }
   ],
   "source": [
    "# 음악에 관한 토픽 36과 관련된 리뷰를 찾아보겠다.\n",
    "music = np.argsort(document_topics[:, 6])[::-1]\n",
    "# 이 토픽의 가장 비중이 큰 문서 10개를 출력합니다\n",
    "for i in music[:10]:\n",
    "    # 첫 두 문장을 출력합니다\n",
    "    print(\".\".join(text_train[i].split(\".\")[:2]) + \".\\n\")"
   ]
  },
  {
   "cell_type": "code",
   "execution_count": 42,
   "metadata": {},
   "outputs": [
    {
     "name": "stderr",
     "output_type": "stream",
     "text": [
      "/opt/anaconda3/lib/python3.7/site-packages/ipykernel_launcher.py:15: UserWarning: Tight layout not applied. The left and right margins cannot be made large enough to accommodate all axes decorations. \n",
      "  from ipykernel import kernelapp as app\n"
     ]
    },
    {
     "data": {
      "application/pdf": "[encoded data removed]",
      "image/png": "[encoded data removed]",
      "text/plain": [
       "<Figure size 300x1500 with 2 Axes>"
      ]
     },
     "metadata": {
      "needs_background": "light"
     },
     "output_type": "display_data"
    }
   ],
   "source": [
    "fig, ax = plt.subplots(1, 2, figsize=(1, 5))\n",
    "topic_names = [\"{:>2} \".format(i) + \" \".join(words)\n",
    "               for i, words in enumerate(feature_names[sorting[:, :2]])]\n",
    "# 두개의 열이 있는 막대 그래프\n",
    "for col in [0, 1]:\n",
    "    start = col * 5\n",
    "    end = (col + 1) * 5\n",
    "    ax[col].barh(np.arange(5), np.sum(document_topics, axis=0)[start:end])\n",
    "    ax[col].set_yticks(np.arange(5))\n",
    "    ax[col].set_yticklabels(topic_names[start:end], ha=\"left\", va=\"top\")\n",
    "    ax[col].invert_yaxis()\n",
    "    ax[col].set_xlim(0, 200)\n",
    "    yax = ax[col].get_yaxis()\n",
    "    yax.set_tick_params(pad=13)\n",
    "plt.tight_layout()"
   ]
  },
  {
   "cell_type": "code",
   "execution_count": null,
   "metadata": {
    "collapsed": true
   },
   "outputs": [],
   "source": []
  }
 ],
 "metadata": {
  "anaconda-cloud": {},
  "kernelspec": {
   "display_name": "Python 3",
   "language": "python",
   "name": "python3"
  },
  "language_info": {
   "codemirror_mode": {
    "name": "ipython",
    "version": 3
   },
   "file_extension": ".py",
   "mimetype": "text/x-python",
   "name": "python",
   "nbconvert_exporter": "python",
   "pygments_lexer": "ipython3",
   "version": "3.7.6"
  }
 },
 "nbformat": 4,
 "nbformat_minor": 1
}
