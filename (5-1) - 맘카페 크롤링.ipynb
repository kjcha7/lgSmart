{
 "cells": [
  {
   "cell_type": "code",
   "execution_count": 16,
   "metadata": {},
   "outputs": [
    {
     "name": "stdout",
     "output_type": "stream",
     "text": [
      "Requirement already satisfied: selenium in /opt/anaconda3/lib/python3.7/site-packages (3.141.0)\r\n",
      "Requirement already satisfied: urllib3 in /opt/anaconda3/lib/python3.7/site-packages (from selenium) (1.25.8)\r\n"
     ]
    }
   ],
   "source": [
    "!pip install selenium"
   ]
  },
  {
   "cell_type": "code",
   "execution_count": 6,
   "metadata": {},
   "outputs": [],
   "source": [
    "import time\n",
    "import pandas as pd\n",
    "import os \n",
    "import pymysql\n",
    "from selenium import webdriver "
   ]
  },
  {
   "cell_type": "code",
   "execution_count": 2,
   "metadata": {},
   "outputs": [
    {
     "name": "stdout",
     "output_type": "stream",
     "text": [
      "Requirement already satisfied: webdriver_manager in /opt/anaconda3/lib/python3.7/site-packages (3.2.1)\r\n",
      "Requirement already satisfied: crayons in /opt/anaconda3/lib/python3.7/site-packages (from webdriver_manager) (0.3.1)\r\n",
      "Requirement already satisfied: requests in /opt/anaconda3/lib/python3.7/site-packages (from webdriver_manager) (2.22.0)\r\n",
      "Requirement already satisfied: configparser in /opt/anaconda3/lib/python3.7/site-packages (from webdriver_manager) (5.0.0)\r\n",
      "Requirement already satisfied: colorama in /opt/anaconda3/lib/python3.7/site-packages (from crayons->webdriver_manager) (0.4.3)\r\n",
      "Requirement already satisfied: chardet<3.1.0,>=3.0.2 in /opt/anaconda3/lib/python3.7/site-packages (from requests->webdriver_manager) (3.0.4)\r\n",
      "Requirement already satisfied: urllib3!=1.25.0,!=1.25.1,<1.26,>=1.21.1 in /opt/anaconda3/lib/python3.7/site-packages (from requests->webdriver_manager) (1.25.8)\r\n",
      "Requirement already satisfied: certifi>=2017.4.17 in /opt/anaconda3/lib/python3.7/site-packages (from requests->webdriver_manager) (2019.11.28)\r\n",
      "Requirement already satisfied: idna<2.9,>=2.5 in /opt/anaconda3/lib/python3.7/site-packages (from requests->webdriver_manager) (2.8)\r\n"
     ]
    }
   ],
   "source": [
    "!pip install webdriver_manager"
   ]
  },
  {
   "cell_type": "code",
   "execution_count": 3,
   "metadata": {},
   "outputs": [],
   "source": [
    "#크롬드라이버링크삽입\n",
    "#driver = webdriver.Chrome('chromedriver.exe')\n",
    "from selenium import webdriver\n",
    "from webdriver_manager.chrome import ChromeDriverManager\n",
    "\n"
   ]
  },
  {
   "cell_type": "code",
   "execution_count": 4,
   "metadata": {},
   "outputs": [
    {
     "name": "stderr",
     "output_type": "stream",
     "text": [
      "[WDM] - Current google-chrome version is 84.0.4147\n",
      "[WDM] - Get LATEST driver version for 84.0.4147\n",
      "[WDM] - Get LATEST driver version for 84.0.4147\n",
      "[WDM] - Trying to download new driver from http://chromedriver.storage.googleapis.com/84.0.4147.30/chromedriver_mac64.zip\n"
     ]
    },
    {
     "name": "stdout",
     "output_type": "stream",
     "text": [
      " \n"
     ]
    },
    {
     "name": "stderr",
     "output_type": "stream",
     "text": [
      "[WDM] - Driver has been saved in cache [/Users/kyung/.wdm/drivers/chromedriver/mac64/84.0.4147.30]\n"
     ]
    }
   ],
   "source": [
    "\n",
    "\n",
    "driver = webdriver.Chrome(ChromeDriverManager().install())\n",
    "\n",
    "\n",
    "driver.get('https://nid.naver.com/nidlogin.login?svctype=262144&url=http://m.naver.com/')\n",
    "\n",
    " # id & pw 입력 \n",
    "driver.find_element_by_name('id').send_keys('')  #네이버 아이디 \n",
    "driver.find_element_by_name('pw').send_keys('')  #네이버 패스워드 \n",
    " # click login \n",
    "driver.find_element_by_css_selector('#frmNIDLogin > fieldset > input').click()\n",
    "\n",
    "\n",
    " #맘카페 링크 입력 ( 네이버 카페 맘카페 상위 5개 크롤링)                                    \n",
    "driver.get('https://cafe.naver.com/moms1004')\n",
    "\n",
    "driver.find_element_by_xpath('//*[@id=\"SEOneBannerLayerCloseBtn\"]').click()\n",
    "# base_url = cafe main page url\n",
    "\n"
   ]
  },
  {
   "cell_type": "code",
   "execution_count": 7,
   "metadata": {},
   "outputs": [
    {
     "name": "stderr",
     "output_type": "stream",
     "text": [
      "[WDM] - Current google-chrome version is 84.0.4147\n",
      "[WDM] - Get LATEST driver version for 84.0.4147\n",
      "[WDM] - Driver [/Users/kyung/.wdm/drivers/chromedriver/mac64/84.0.4147.30/chromedriver] found in cache\n"
     ]
    },
    {
     "name": "stdout",
     "output_type": "stream",
     "text": [
      " \n",
      "[1, 0]\n",
      "[2, 0]\n",
      "[3, 0]\n",
      "[4, 0]\n"
     ]
    },
    {
     "ename": "KeyboardInterrupt",
     "evalue": "",
     "output_type": "error",
     "traceback": [
      "\u001b[0;31m---------------------------------------------------------------------------\u001b[0m",
      "\u001b[0;31mKeyboardInterrupt\u001b[0m                         Traceback (most recent call last)",
      "\u001b[0;32m<ipython-input-7-b40e349ae9ce>\u001b[0m in \u001b[0;36m<module>\u001b[0;34m\u001b[0m\n\u001b[1;32m     70\u001b[0m         \u001b[0;32mpass\u001b[0m\u001b[0;34m\u001b[0m\u001b[0;34m\u001b[0m\u001b[0m\n\u001b[1;32m     71\u001b[0m     \u001b[0mprint\u001b[0m\u001b[0;34m(\u001b[0m\u001b[0;34m[\u001b[0m\u001b[0mpage\u001b[0m\u001b[0;34m,\u001b[0m \u001b[0mcnt\u001b[0m\u001b[0;34m]\u001b[0m\u001b[0;34m)\u001b[0m\u001b[0;34m\u001b[0m\u001b[0;34m\u001b[0m\u001b[0m\n\u001b[0;32m---> 72\u001b[0;31m     \u001b[0mtime\u001b[0m\u001b[0;34m.\u001b[0m\u001b[0msleep\u001b[0m\u001b[0;34m(\u001b[0m\u001b[0;36m2\u001b[0m\u001b[0;34m)\u001b[0m\u001b[0;34m\u001b[0m\u001b[0;34m\u001b[0m\u001b[0m\n\u001b[0m\u001b[1;32m     73\u001b[0m \u001b[0mconn\u001b[0m\u001b[0;34m.\u001b[0m\u001b[0mclose\u001b[0m\u001b[0;34m(\u001b[0m\u001b[0;34m)\u001b[0m\u001b[0;34m\u001b[0m\u001b[0;34m\u001b[0m\u001b[0m\n",
      "\u001b[0;31mKeyboardInterrupt\u001b[0m: "
     ]
    }
   ],
   "source": [
    "driver = webdriver.Chrome(ChromeDriverManager().install())\n",
    "\n",
    "\n",
    "driver.get('https://nid.naver.com/nidlogin.login?svctype=262144&url=http://m.naver.com/')\n",
    "\n",
    " # id & pw 입력 \n",
    "driver.find_element_by_name('id').send_keys('')  #네이버 아이디 \n",
    "driver.find_element_by_name('pw').send_keys('')  #네이버 패스워드 \n",
    " # click login \n",
    "driver.find_element_by_css_selector('#frmNIDLogin > fieldset > input').click()\n",
    "\n",
    "\n",
    " #맘카페 링크 입력 ( 네이버 카페 맘카페 상위 5개 크롤링)                                    \n",
    "driver.get('https://cafe.naver.com/moms1004')\n",
    "\n",
    "driver.find_element_by_xpath('//*[@id=\"SEOneBannerLayerCloseBtn\"]').click()\n",
    "# base_url = cafe main page url\n",
    "\n",
    "\n",
    "base_url ='https://cafe.naver.com/moms1004'\n",
    "cnt = 0 # number of collected data\n",
    "page = 0 # position of current page # db connect and select \n",
    "conn = pymysql.connect(host='127.0.0.1', user = 'root', password='kjcha3112', db = 'test',charset = 'utf8')\n",
    "curs = conn.cursor(pymysql.cursors.DictCursor)\n",
    "\n",
    "job_seq = 0\n",
    "\n",
    "while page < 100:\n",
    "    page = page + 1 \n",
    "    quest_urls = [] \n",
    "    try :\n",
    "        driver.get(base_url + '&search.menuid=2&search.page='+ str(page) +'&userDisplay=50')\n",
    "        driver.switch_to.frame('cafe_main') #iframe으로 프레임 전환 \n",
    "        quest_list = driver.find_elements_by_css_selector('div.inner_list > a.article') \n",
    "        quest_urls = [ i.get_attribute('href')for i in quest_list ]\n",
    "        print(len(quest_urls)) \n",
    "        for quest in quest_urls :\n",
    "            try : \n",
    "                driver.get(quest) \n",
    "                driver.switch_to.frame('cafe_main')\n",
    "                soup = bs(driver.page_source, 'html.parser') \n",
    "                #제목 추출\n",
    "                title = soup.select('div.tit-box span.b')[0].get_text()\n",
    "                print(title) \n",
    "                #내용 추출 \n",
    "                content_tags = soup.select('#tbody')[0].select('p')\n",
    "                content = ' '.join([ tags.get_text() for tags in content_tags ]) \n",
    "                print(content) \n",
    "                job_seq = job_seq+1 \n",
    "                sqlInsert = \"INSERT INTO schema_name.table_name VALUES (%s,%s,%s)\" \n",
    "                val = (job_seq,title,content) \n",
    "                curs.execute(sqlInsert,val) \n",
    "                conn.commit()\n",
    "                #말머리 추출\n",
    "                try : \n",
    "                    tag = soup.select('div.tit-box span.head')[0].get_text() \n",
    "                    temp_list = [title, content]\n",
    "                    f = open('preg_quest.csv', 'a+', encoding = 'ansi', newline='') \n",
    "                    wr = csv.writer(f) \n",
    "                    wr.writerow(temp_list)\n",
    "                    f.close() \n",
    "                    cnt = cnt + 1\n",
    "                except:\n",
    "                    pass\n",
    "            except: \n",
    "                        driver.switch_to_alert.accpet() \n",
    "                        driver.switch_to_alert\n",
    "                        driver.switch_to_alert.accpet() \n",
    "    except : \n",
    "        pass\n",
    "    print([page, cnt])\n",
    "    time.sleep(2)\n",
    "conn.close()"
   ]
  },
  {
   "cell_type": "code",
   "execution_count": null,
   "metadata": {},
   "outputs": [],
   "source": []
  }
 ],
 "metadata": {
  "kernelspec": {
   "display_name": "Python 3",
   "language": "python",
   "name": "python3"
  },
  "language_info": {
   "codemirror_mode": {
    "name": "ipython",
    "version": 3
   },
   "file_extension": ".py",
   "mimetype": "text/x-python",
   "name": "python",
   "nbconvert_exporter": "python",
   "pygments_lexer": "ipython3",
   "version": "3.7.6"
  }
 },
 "nbformat": 4,
 "nbformat_minor": 4
}
