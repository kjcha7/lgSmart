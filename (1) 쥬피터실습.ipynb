{
 "cells": [
  {
   "cell_type": "markdown",
   "metadata": {},
   "source": [
    "# Jupyter Notebook 소개 및 실습"
   ]
  },
  {
   "cell_type": "markdown",
   "metadata": {},
   "source": [
    "- 주피터 노트북은 코드 작성 및 실행뿐만 아니라 코드 설명을 위한 문서 작성을 편리하게 할 수 있음\n",
    "- 주피터 노트북에서는 코드, 수식, 시각화 자료 및 텍스트로 이뤄진 문서를 생성하고 공유할 수 있어 이론설명과 시뮬레이션이 필요한 분야\n",
    "- 데이터설명과 결과분석, 협업이 필요한 데이터 과학분야에 널리 이용됨\n",
    "- 파이썬, R, Julia, Scala등 40개이상의 프로그래밍언어를 지원함\n",
    "- 작성된 코드와 문서는 다양한 출력양식으로 변환해서 공유할 수 있음\n",
    "- http://jupyter.org\n"
   ]
  },
  {
   "cell_type": "markdown",
   "metadata": {},
   "source": [
    "## 학습목표\n",
    "\n",
    "- 쥬피터를 설치한 김에 수업자료를 열어보고 주피터 노트북 사용법을 익히기\n",
    "- 셀모드, 마크다운모드를 구분하고 코멘트를 입력할 수 있다\n",
    "- 기본적인 셀 추가/삭제하는방법을 익힌다\n"
   ]
  },
  {
   "cell_type": "markdown",
   "metadata": {},
   "source": [
    "### 0.1 셀(Cell)\n",
    "- 하나의 실행 단위 블럭을 뜻한다.\n",
    "- Code셀: 코드가 실행되는 블럭\n",
    "- Markdown셀: Markdown 문법이 적용되는 노트\n"
   ]
  },
  {
   "cell_type": "markdown",
   "metadata": {},
   "source": [
    "- 이것은 노트입니다"
   ]
  },
  {
   "cell_type": "markdown",
   "metadata": {},
   "source": []
  },
  {
   "cell_type": "code",
   "execution_count": 1,
   "metadata": {
    "scrolled": true
   },
   "outputs": [
    {
     "name": "stdout",
     "output_type": "stream",
     "text": [
      "파이썬 예측분석 첫수업 시작\n"
     ]
    }
   ],
   "source": [
    "## Code Cell\n",
    "print(\"파이썬 예측분석 첫수업 시작\")"
   ]
  },
  {
   "cell_type": "markdown",
   "metadata": {},
   "source": [
    "hello\n",
    "Markdown Cell"
   ]
  },
  {
   "cell_type": "markdown",
   "metadata": {},
   "source": [
    "### 0.2 2가지 모드\n",
    "- Edit Mode (초록색): 셀 안의 내용을 편집할 수 있는 상태 : 셀 위에서 Enter 키를 눌러 셀 내용을 편집할 수 있음\n",
    "- Command Mode (파란색): 셀 밖에서 해당 노트북을 명령어로 컨트롤할 수 있는 상태 : 셀 위에서 명령을 내릴 수 있음\n",
    "- h를 눌러 도움말을 볼 수 있다."
   ]
  },
  {
   "cell_type": "markdown",
   "metadata": {},
   "source": [
    "### 0.3 유용한 커맨드 모드 명령어\n",
    "- CTRL + Enter: 셀 실행\n",
    "- Shift + Enter : 셀 실행후 다음 셀로 이동\n",
    "- y: 셀을 Code 블록으로 변환\n",
    "- m: 셀을 Markdown 블록으로 변환\n",
    "- a: 위에 셀 추가\n",
    "- b: 아래에 셀 추가\n",
    "- dd: 셀 삭제\n",
    "- 각자 위 명령어를 연습해보세요!!"
   ]
  },
  {
   "cell_type": "markdown",
   "metadata": {},
   "source": [
    "### 0.4 명령어에 대한 도움이 필요할 때\n",
    "- Jupyter Notebook에서 특정 함수/클래스에 커서를 옮긴 후\n",
    "- Shift + Tab : Docstring을 보여주는 명령어임\n"
   ]
  },
  {
   "cell_type": "code",
   "execution_count": 2,
   "metadata": {},
   "outputs": [
    {
     "name": "stdout",
     "output_type": "stream",
     "text": [
      "\n"
     ]
    }
   ],
   "source": [
    "print()"
   ]
  },
  {
   "cell_type": "markdown",
   "metadata": {},
   "source": [
    "### 0.5 유용한 Markdown 문법"
   ]
  },
  {
   "cell_type": "markdown",
   "metadata": {},
   "source": [
    "# Header 1\n",
    "\n",
    "## Header 2\n",
    "\n",
    "### Header 3\n",
    "\n",
    "#### Heading 4\n",
    "\n",
    "- Bulleted List\n",
    "    - Bulleted List\n",
    "\n",
    "\n",
    "1. Numbered List\n",
    "    - Bulleted List\n",
    "    - Bulleted List\n",
    "2. Numbered List\n",
    "    1. Numbered List\n",
    "    2. Numbered List\n",
    "\n",
    "**Emphasis**\n",
    "\n",
    "*Italic*\n",
    "\n",
    "\n",
    "\n",
    "`block`\n",
    "\n",
    "```\n",
    "Script\n",
    "```"
   ]
  },
  {
   "cell_type": "markdown",
   "metadata": {},
   "source": [
    "### 0.6 기타 Jupyter Notebook의 다양한 기능"
   ]
  },
  {
   "cell_type": "markdown",
   "metadata": {},
   "source": [
    "1. Magic Command (http://ipython.readthedocs.io/en/stable/interactive/magics.html)\n",
    "    - Line Magic\n",
    "        - `%load`\n",
    "    - Cell Magic\n",
    "        - `%%writefile`\n",
    "2. 다양한 모듈이 존재\n",
    "    - ex) `from IPython.display import Image`\n",
    "    - https://ipython.org/ipython-doc/3/py-modindex.html"
   ]
  },
  {
   "cell_type": "code",
   "execution_count": 3,
   "metadata": {
    "collapsed": true
   },
   "outputs": [],
   "source": [
    "from IPython.display import Image"
   ]
  },
  {
   "cell_type": "code",
   "execution_count": 4,
   "metadata": {},
   "outputs": [
    {
     "data": {
      "text/html": [
       "<img src=\"https://www.securonix.com/web/wp-content/uploads/2018/06/Ch5-01.png\"/>"
      ],
      "text/plain": [
       "<IPython.core.display.Image object>"
      ]
     },
     "execution_count": 4,
     "metadata": {},
     "output_type": "execute_result"
    }
   ],
   "source": [
    "Image(url='https://www.securonix.com/web/wp-content/uploads/2018/06/Ch5-01.png')"
   ]
  },
  {
   "cell_type": "code",
   "execution_count": 5,
   "metadata": {
    "collapsed": true
   },
   "outputs": [],
   "source": [
    "from IPython.lib.display import YouTubeVideo"
   ]
  },
  {
   "cell_type": "code",
   "execution_count": 6,
   "metadata": {},
   "outputs": [
    {
     "data": {
      "image/jpeg": "[encoded data removed]",
      "text/html": [
       "\n",
       "        <iframe\n",
       "            width=\"800\"\n",
       "            height=\"550\"\n",
       "            src=\"https://www.youtube.com/embed/ZZuD6iUe3Pc\"\n",
       "            frameborder=\"0\"\n",
       "            allowfullscreen\n",
       "        ></iframe>\n",
       "        "
      ],
      "text/plain": [
       "<IPython.lib.display.YouTubeVideo at 0x22942152da0>"
      ]
     },
     "execution_count": 6,
     "metadata": {},
     "output_type": "execute_result"
    }
   ],
   "source": [
    "YouTubeVideo('ZZuD6iUe3Pc', width='800', height='550')"
   ]
  },
  {
   "cell_type": "code",
   "execution_count": null,
   "metadata": {
    "collapsed": true
   },
   "outputs": [],
   "source": []
  }
 ],
 "metadata": {
  "kernelspec": {
   "display_name": "Python 3",
   "language": "python",
   "name": "python3"
  },
  "language_info": {
   "codemirror_mode": {
    "name": "ipython",
    "version": 3
   },
   "file_extension": ".py",
   "mimetype": "text/x-python",
   "name": "python",
   "nbconvert_exporter": "python",
   "pygments_lexer": "ipython3",
   "version": "3.7.0"
  }
 },
 "nbformat": 4,
 "nbformat_minor": 2
}
